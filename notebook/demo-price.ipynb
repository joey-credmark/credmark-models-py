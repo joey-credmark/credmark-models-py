{
 "cells": [
  {
   "cell_type": "code",
   "execution_count": 1,
   "id": "b77380ae-0c7d-4db5-84f9-3670ec85d744",
   "metadata": {},
   "outputs": [],
   "source": [
    "from credmark.cmf.engine.model_loader import ModelLoader\n",
    "from credmark.cmf.engine.context import EngineModelContext\n",
    "\n",
    "from credmark.dto import EmptyInput\n",
    "\n",
    "from credmark.cmf.types import Contract, Token\n",
    "\n",
    "from credmark.cmf.types.ledger import (\n",
    "    BlockTable, ContractTable,\n",
    "    LogTable, ReceiptTable, TokenTable, TokenTransferTable,\n",
    "    TraceTable, TransactionTable, LedgerTable,\n",
    "    LedgerAggregate, LedgerModelOutput\n",
    ")\n",
    "import sys\n",
    "sys.tracebacklimit=0"
   ]
  },
  {
   "cell_type": "code",
   "execution_count": 2,
   "id": "84d69de1-3bbc-4677-9936-10e4085508c2",
   "metadata": {},
   "outputs": [],
   "source": [
    "model_loader = ModelLoader(['../models'], None, True)\n",
    "\n",
    "params = {'chain_id': 1,\n",
    "          'block_number': None,\n",
    "          'model_loader': model_loader,\n",
    "          'chain_to_provider_url': {'1': 'http://localhost:10444'},\n",
    "          'api_url': None,\n",
    "          'run_id': None,\n",
    "          'console': True,\n",
    "          'use_local_models': '*',\n",
    "         }\n",
    "context = EngineModelContext.create_context(**params)"
   ]
  },
  {
   "cell_type": "code",
   "execution_count": 4,
   "id": "5e37f678-bd93-4403-acce-b11bd8148e96",
   "metadata": {},
   "outputs": [
    {
     "name": "stdout",
     "output_type": "stream",
     "text": [
      "ETH/ETH: 1.0\n",
      "ETH/USD: 1959.1628\n",
      "ETH/GBP: 1554.471650507006\n",
      "ETH/CNY: 13061.172407816053\n",
      "CNY/USD: 0.149999\n",
      "USD/ETH: 0.0005104221047888414\n",
      "GBP/ETH: 0.0006433053955495684\n",
      "BTC/CNY: 209542.96551607383\n",
      "0x767FE9EDC9E0dF98E07454847909b5E959D7ca0E/USD: 305.926817304668\n",
      "JPY/0x767FE9EDC9E0dF98E07454847909b5E959D7ca0E: 2.5391039819383218e-05\n",
      "0x767FE9EDC9E0dF98E07454847909b5E959D7ca0E/JPY: 39383.97194890034\n",
      "JPY/0x85f138bfEE4ef8e540890CFb48F620571d67Eda3: 0.0002960778720037849\n",
      "USD/0x85f138bfEE4ef8e540890CFb48F620571d67Eda3: 0.03811605242202231\n",
      "0x85f138bfEE4ef8e540890CFb48F620571d67Eda3/USD: 26.23566546\n",
      "0x85f138bfEE4ef8e540890CFb48F620571d67Eda3/JPY: 3377.4898246607795\n",
      "JPY/0x85f138bfEE4ef8e540890CFb48F620571d67Eda3: 0.0002960778720037849\n",
      "CNY/0xa0b86991c6218b36c1d19d4a2e9eb0ce3606eb48: 0.14985080606352924\n",
      "0x6b175474e89094c44da98b954eedeac495271d0f/CNY: 6.681762287397306\n",
      "ETH/0xc00e94Cb662C3520282E6f5717214004A7f26888: 31.293477432178285\n",
      "CNY/0xc00e94Cb662C3520282E6f5717214004A7f26888: 0.002395916419681565\n",
      "0xc00e94Cb662C3520282E6f5717214004A7f26888/CNY: 417.3768299200134\n",
      "CNY/0x767FE9EDC9E0dF98E07454847909b5E959D7ca0E: 0.0004903100725903941\n",
      "0x767FE9EDC9E0dF98E07454847909b5E959D7ca0E/CNY: 2039.525712202535\n"
     ]
    }
   ],
   "source": [
    "test_cases = [\n",
    "    {'base': 'ETH', 'quote': 'ETH'},\n",
    "    {'base': 'ETH', 'quote': 'USD'},\n",
    "    {'base': 'ETH', 'quote': 'GBP'},    \n",
    "    {'base': 'ETH', 'quote': 'CNY'},\n",
    "    {'base': 'CNY', 'quote': 'USD'},    \n",
    "    {'base': 'USD', 'quote': 'ETH'},\n",
    "    {'base': 'GBP', 'quote': 'ETH'},\n",
    "    {'base': 'BTC', 'quote': 'CNY'},\n",
    "    {'base': '0x767FE9EDC9E0dF98E07454847909b5E959D7ca0E', 'quote': 'USD'}, # ILV\n",
    "    {'base': 'JPY', 'quote': '0x767FE9EDC9E0dF98E07454847909b5E959D7ca0E'},\n",
    "    {'quote': 'JPY', 'base': '0x767FE9EDC9E0dF98E07454847909b5E959D7ca0E'},\n",
    "    {'base': 'JPY', 'quote': '0x85f138bfEE4ef8e540890CFb48F620571d67Eda3'}, # WAVAX\n",
    "    {'base': 'USD', 'quote': '0x85f138bfEE4ef8e540890CFb48F620571d67Eda3'},\n",
    "    {'quote': 'USD', 'base': '0x85f138bfEE4ef8e540890CFb48F620571d67Eda3'},\n",
    "    {'quote': 'JPY', 'base': '0x85f138bfEE4ef8e540890CFb48F620571d67Eda3'},\n",
    "    {'base': 'JPY', 'quote': '0x85f138bfEE4ef8e540890CFb48F620571d67Eda3'},\n",
    "    {'base': 'CNY', 'quote': Token(symbol='USDC').address},\n",
    "    {'quote': 'CNY', 'base': Token(symbol='DAI').address},\n",
    "    {'base': 'ETH', 'quote': '0xc00e94Cb662C3520282E6f5717214004A7f26888'}, # COMP\n",
    "    {'base': 'CNY', 'quote': '0xc00e94Cb662C3520282E6f5717214004A7f26888'},\n",
    "    {'quote': 'CNY', 'base': '0xc00e94Cb662C3520282E6f5717214004A7f26888'},\n",
    "    {'base': 'CNY', 'quote': '0x767FE9EDC9E0dF98E07454847909b5E959D7ca0E'}, # ILV\n",
    "    {'quote': 'CNY', 'base': '0x767FE9EDC9E0dF98E07454847909b5E959D7ca0E'},\n",
    "]\n",
    "\n",
    "for case in test_cases:\n",
    "    price = context.models.price.oracle_chainlink(case)\n",
    "    print(f\"{case['base']}/{case['quote']}: {price['price']}\")"
   ]
  }
 ],
 "metadata": {
  "kernelspec": {
   "display_name": "Python [conda env:cm310-2] *",
   "language": "python",
   "name": "conda-env-cm310-2-py"
  },
  "language_info": {
   "codemirror_mode": {
    "name": "ipython",
    "version": 3
   },
   "file_extension": ".py",
   "mimetype": "text/x-python",
   "name": "python",
   "nbconvert_exporter": "python",
   "pygments_lexer": "ipython3",
   "version": "3.10.4"
  }
 },
 "nbformat": 4,
 "nbformat_minor": 5
}
